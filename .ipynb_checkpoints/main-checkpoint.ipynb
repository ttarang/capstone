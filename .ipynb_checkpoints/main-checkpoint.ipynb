{
 "cells": [
  {
   "cell_type": "code",
   "execution_count": 2,
   "metadata": {},
   "outputs": [],
   "source": [
    "\"\"\"\n",
    "FIX GITIGNORE.\n",
    "\"\"\";"
   ]
  },
  {
   "cell_type": "code",
   "execution_count": 1,
   "metadata": {},
   "outputs": [
    {
     "name": "stderr",
     "output_type": "stream",
     "text": [
      "[nltk_data] Downloading package punkt to\n",
      "[nltk_data]     /Users/christophervolpacchio/nltk_data...\n",
      "[nltk_data]   Package punkt is already up-to-date!\n",
      "[nltk_data] Downloading package stopwords to\n",
      "[nltk_data]     /Users/christophervolpacchio/nltk_data...\n",
      "[nltk_data]   Package stopwords is already up-to-date!\n"
     ]
    }
   ],
   "source": [
    "# Importing Webscraping, data managment and visualization libraries.\n",
    "\n",
    "import pandas as pd, matplotlib.pyplot as plt, seaborn as sns\n",
    "\n",
    "# Web–scraping & cleaning libs.\n",
    "import requests\n",
    "from bs4 import BeautifulSoup\n",
    "\n",
    "# NLP Libs.\n",
    "import nltk\n",
    "from nltk.stem import WordNetLemmatizer\n",
    "from nltk.tokenize import word_tokenize\n",
    "from nltk.tokenize import RegexpTokenizer\n",
    "from nltk.corpus import stopwords\n",
    "nltk.download('punkt')\n",
    "nltk.download('stopwords')\n",
    "import re\n",
    "\n",
    "from sklearn.model_selection import train_test_split, GridSearchCV\n",
    "from sklearn.pipeline import Pipeline\n",
    "from sklearn.naive_bayes import MultinomialNB\n",
    "from sklearn.metrics import confusion_matrix, plot_confusion_matrix\n",
    "from sklearn.feature_extraction.text import CountVectorizer, TfidfVectorizer\n",
    "from sklearn.linear_model import LogisticRegression\n",
    "from sklearn.ensemble import GradientBoostingClassifier,\\\n",
    "AdaBoostClassifier, VotingClassifier\n",
    "from sklearn.tree import DecisionTreeClassifier\n",
    "from sklearn.ensemble import RandomForestClassifier,\\\n",
    "ExtraTreesClassifier\n",
    "from sklearn.preprocessing import StandardScaler\n",
    "from sklearn.neighbors import KNeighborsClassifier\n",
    "#\n",
    "import xgboost as xgb"
   ]
  },
  {
   "cell_type": "code",
   "execution_count": null,
   "metadata": {},
   "outputs": [],
   "source": [
    "url = 'https://www.lyrics.com/lyric/7243755/The+Beautiful+Girls/Black+Bird'\n",
    "req = requests.get(url)\n",
    "req.text"
   ]
  },
  {
   "cell_type": "markdown",
   "metadata": {},
   "source": [
    "<pre id=\"lyric-body-text\" class=\"lyric-body wselect-cnt\" dir=\"ltr\" data-lang=\"en\">"
   ]
  },
  {
   "cell_type": "code",
   "execution_count": null,
   "metadata": {},
   "outputs": [],
   "source": [
    "\"\"\" This is how we will start to extract the lyrics from the song webpage.\n",
    "\"\"\"\n",
    "\n",
    "soup = BeautifulSoup(req.text)\n",
    "lyrics = soup.find(\"pre\",{'id' : 'lyric-body-text'}).text\n",
    "lyrics"
   ]
  },
  {
   "cell_type": "code",
   "execution_count": 7,
   "metadata": {},
   "outputs": [],
   "source": [
    "# \\n is a line \\n\\n is a stanza.\n",
    "#<div class=\"clearfix\"><h3 class=\"artist-album-label\">"
   ]
  },
  {
   "cell_type": "code",
   "execution_count": 9,
   "metadata": {},
   "outputs": [
    {
     "name": "stdout",
     "output_type": "stream",
     "text": [
      "Enter artist here : the strokes\n",
      "                             Titles\n",
      "0                 Partners in Crime\n",
      "1    Why Are Sunday's So Depressing\n",
      "2                The End Has No End\n",
      "3                   Heart in a Cage\n",
      "4             12:51 [Album Version]\n",
      "..                              ...\n",
      "100               On the Other Side\n",
      "101                         Someday\n",
      "102                 Ode to the Mets\n",
      "103                  Automatic Stop\n",
      "104                        Selfless\n",
      "\n",
      "[105 rows x 1 columns]\n",
      "Choose a title by index number : 3\n"
     ]
    },
    {
     "data": {
      "text/plain": [
       "{'result': [{'song': 'Heart in a Cage',\n",
       "   'song-link': 'https://www.lyrics.com/lyric/8505386/The+Strokes/Heart+in+a+Cage',\n",
       "   'artist': 'The Strokes',\n",
       "   'artist-link': 'https://www.lyrics.com/artist/The+Strokes/478260',\n",
       "   'album': 'First Impressions of Earth',\n",
       "   'album-link': 'https://www.lyrics.com/album/812605/First Impressions of Earth'},\n",
       "  {'song': 'Heart in a Cage',\n",
       "   'song-link': 'https://www.lyrics.com/lyric/9025640/Chris+Thile/Heart+in+a+Cage',\n",
       "   'artist': 'Chris Thile',\n",
       "   'artist-link': 'https://www.lyrics.com/artist/Chris+Thile/202193',\n",
       "   'album': 'How to Grow a Woman from the Ground',\n",
       "   'album-link': 'https://www.lyrics.com/album/853797/How to Grow a Woman from the Ground'},\n",
       "  {'song': 'Heart in a Cage',\n",
       "   'song-link': 'https://www.lyrics.com/lyric/26687412/Chris+Thile/Heart+in+a+Cage',\n",
       "   'artist': 'Chris Thile',\n",
       "   'artist-link': 'https://www.lyrics.com/artist/Chris+Thile/202193',\n",
       "   'album': 'How to Grow a Woman from the Ground',\n",
       "   'album-link': 'https://www.lyrics.com/album/853797/How to Grow a Woman from the Ground'},\n",
       "  {'song': 'Heart in a Cage',\n",
       "   'song-link': 'https://www.lyrics.com/lyric/28316025/The+Strokes/Heart+in+a+Cage',\n",
       "   'artist': 'The Strokes',\n",
       "   'artist-link': 'https://www.lyrics.com/artist/The+Strokes/478260',\n",
       "   'album': 'First Impressions of Earth [LP]',\n",
       "   'album-link': 'https://www.lyrics.com/album/815144/First Impressions of Earth [LP]'},\n",
       "  {'song': 'Heart In a Cage',\n",
       "   'song-link': 'https://www.lyrics.com/lyric/31024783/The+Strokes/Heart+In+a+Cage',\n",
       "   'artist': 'The Strokes',\n",
       "   'artist-link': 'https://www.lyrics.com/artist/The+Strokes/478260',\n",
       "   'album': 'First Impressions of Earth',\n",
       "   'album-link': 'https://www.lyrics.com/album/812605/First Impressions of Earth'},\n",
       "  {'song': 'Heart In a Cage',\n",
       "   'song-link': 'https://www.lyrics.com/lyric/32664453/The+Strokes/Heart+In+a+Cage',\n",
       "   'artist': 'The Strokes',\n",
       "   'artist-link': 'https://www.lyrics.com/artist/The+Strokes/478260',\n",
       "   'album': 'The Complete Collection',\n",
       "   'album-link': 'https://www.lyrics.com/album/3141973/The Complete Collection'},\n",
       "  {'song': 'Heart in a Cage',\n",
       "   'song-link': 'https://www.lyrics.com/lyric/35087348/The+Hit+Crew/Heart+in+a+Cage',\n",
       "   'artist': 'The Hit Crew',\n",
       "   'artist-link': 'https://www.lyrics.com/artist/The+Hit+Crew/2178250',\n",
       "   'album': \"Drew's Famous Instrumental Modern Rock Collection, Vol. 38\",\n",
       "   'album-link': \"https://www.lyrics.com/album/3675035/Drew's Famous Instrumental Modern Rock Collection, Vol. 38\"},\n",
       "  {'song': 'Heart in a Cage',\n",
       "   'song-link': 'https://www.lyrics.com/lyric/35645837/Chris+Thile/Heart+in+a+Cage',\n",
       "   'artist': 'Chris Thile',\n",
       "   'artist-link': 'https://www.lyrics.com/artist/Chris+Thile/202193',\n",
       "   'album': 'How to Grow a Woman from the Ground',\n",
       "   'album-link': 'https://www.lyrics.com/album/3743971/How to Grow a Woman from the Ground'}]}"
      ]
     },
     "execution_count": 9,
     "metadata": {},
     "output_type": "execute_result"
    }
   ],
   "source": [
    "\"\"\"\n",
    "SHOULD I USE SUB FUNCTIONS\n",
    "\"\"\";\n",
    "user_id = open('./data/lyrics_user.txt', mode = 'r').read()\n",
    "token = open('./data/lyrics_key.txt', mode = 'r').read()\n",
    "\n",
    "artist = input('Enter artist here : ')\n",
    "# if not redirected to artist page (instead results of ARTISTS, return message to include articles in name)\n",
    "url = 'https://www.lyrics.com/artist/'+str(artist.replace(' ', '+'))\n",
    "req = requests.get(url)\n",
    "soup = BeautifulSoup(req.text)\n",
    "tables = soup.find_all('table', {'class': 'tdata'})\n",
    "songs = []\n",
    "for table in tables:\n",
    "    for row in table.find('tbody').find_all('tr'):\n",
    "        songs.append(row.find('a').text)\n",
    "songs = pd.DataFrame(set(songs), columns = ['Titles'])\n",
    "print(songs)\n",
    "# how to display FULL disc on Web Pge w/0 elipsis?\n",
    "album = input('Choose a title by index number : ')\n",
    "song = str(songs.loc[int(album),'Titles'])\n",
    "#\n",
    "# Getting album url to pull tracklist and search lyrics for each.\n",
    "#\n",
    "url = 'https://www.stands4.com/services/v2/lyrics.php'\n",
    "params = {'uid' : str(user_id),\n",
    "         'tokenid' : str(token),\n",
    "         'term' : str(song),\n",
    "         'format': 'json'}\n",
    "req = requests.get(url, params)\n",
    "req.json()\n",
    "#\n",
    "# Log album name and use url from dict to nav to page and pull track list for further querying\n",
    "#"
   ]
  },
  {
   "cell_type": "code",
   "execution_count": 21,
   "metadata": {},
   "outputs": [
    {
     "data": {
      "text/plain": [
       "'the strokes'"
      ]
     },
     "execution_count": 21,
     "metadata": {},
     "output_type": "execute_result"
    }
   ],
   "source": [
    "artist"
   ]
  },
  {
   "cell_type": "code",
   "execution_count": 35,
   "metadata": {},
   "outputs": [
    {
     "data": {
      "text/plain": [
       "{'song': 'Heart In a Cage',\n",
       " 'song-link': 'https://www.lyrics.com/lyric/32664453/The+Strokes/Heart+In+a+Cage',\n",
       " 'artist': 'The Strokes',\n",
       " 'artist-link': 'https://www.lyrics.com/artist/The+Strokes/478260',\n",
       " 'album': 'The Complete Collection',\n",
       " 'album-link': 'https://www.lyrics.com/album/3141973/The Complete Collection'}"
      ]
     },
     "execution_count": 35,
     "metadata": {},
     "output_type": "execute_result"
    }
   ],
   "source": [
    "res = req.json()\n",
    "df = res['result']\n",
    "df\n",
    "new_df = {}\n",
    "for i in df:\n",
    "    for key, value in i.items():\n",
    "        if value.lower() == artist.lower():\n",
    "            new_df.update(i)\n",
    "            break\n",
    "new_df\n",
    "\n",
    "\"\"\"\n",
    "How to deal w/ duplicative results on an EP?\n",
    "    Attribution for albums 'studio', etc.?\n",
    "\"\"\""
   ]
  },
  {
   "cell_type": "code",
   "execution_count": null,
   "metadata": {},
   "outputs": [],
   "source": [
    "\"\"\"\n",
    "Return tracklist from album page\n",
    "go to track page & extract lyrics for each\n",
    "dev DF & attribution\n",
    "model\n",
    "\"\"\""
   ]
  },
  {
   "cell_type": "code",
   "execution_count": null,
   "metadata": {},
   "outputs": [],
   "source": []
  },
  {
   "cell_type": "code",
   "execution_count": null,
   "metadata": {},
   "outputs": [],
   "source": []
  },
  {
   "cell_type": "code",
   "execution_count": 46,
   "metadata": {},
   "outputs": [
    {
     "name": "stdout",
     "output_type": "stream",
     "text": [
      "Choose a title by index number : 6\n"
     ]
    },
    {
     "data": {
      "text/plain": [
       "'New York City Cops'"
      ]
     },
     "execution_count": 46,
     "metadata": {},
     "output_type": "execute_result"
    }
   ],
   "source": [
    "album = input('Choose a title by index number : ')\n",
    "str(songs.loc[int(album),'Titles'])"
   ]
  },
  {
   "cell_type": "code",
   "execution_count": 41,
   "metadata": {},
   "outputs": [
    {
     "ename": "TypeError",
     "evalue": "'_AtIndexer' object is not callable",
     "output_type": "error",
     "traceback": [
      "\u001b[0;31m---------------------------------------------------------------------------\u001b[0m",
      "\u001b[0;31mTypeError\u001b[0m                                 Traceback (most recent call last)",
      "\u001b[0;32m<ipython-input-41-e4fb91cf3983>\u001b[0m in \u001b[0;36m<module>\u001b[0;34m\u001b[0m\n\u001b[0;32m----> 1\u001b[0;31m \u001b[0msongs\u001b[0m\u001b[0;34m.\u001b[0m\u001b[0mat\u001b[0m\u001b[0;34m(\u001b[0m\u001b[0;36m5\u001b[0m\u001b[0;34m,\u001b[0m \u001b[0;34m'Titles'\u001b[0m\u001b[0;34m)\u001b[0m\u001b[0;34m\u001b[0m\u001b[0;34m\u001b[0m\u001b[0m\n\u001b[0m",
      "\u001b[0;31mTypeError\u001b[0m: '_AtIndexer' object is not callable"
     ]
    }
   ],
   "source": [
    "# only works for scalars\n",
    "#songs.at(5, 'Titles')"
   ]
  },
  {
   "cell_type": "code",
   "execution_count": 8,
   "metadata": {},
   "outputs": [
    {
     "name": "stdout",
     "output_type": "stream",
     "text": [
      "Empty DataFrame\n",
      "Columns: [5fGYJwlI810Y5kTs]\n",
      "Index: []\n"
     ]
    }
   ],
   "source": [
    "token = pd.read_csv('./data/lyrics_key.txt', )\n",
    "print(token)"
   ]
  },
  {
   "cell_type": "code",
   "execution_count": 6,
   "metadata": {},
   "outputs": [
    {
     "data": {
      "text/plain": [
       "{'error': 'Invalid Token'}"
      ]
     },
     "execution_count": 6,
     "metadata": {},
     "output_type": "execute_result"
    }
   ],
   "source": [
    "\"\"\" Use this to start to document attributes of music related to song req.\n",
    "We can store information about the album, artist and song name while navigating to the album page.\n",
    "From album page we can then loop through song tags and request to their respective pages. Lyric Query is above.\n",
    "\"\"\"\n",
    "\n",
    "# FN passing through index # of desired song. will work off assumption that fav song will be on album w/ sim tracks\n",
    "\n",
    "user_id = pd.read_csv('./data/lyrics_user.txt')\n",
    "token = pd.read_csv('./data/lyrics_key.txt')\n",
    "song = 'Selfless'\n",
    "\n",
    "url = 'https://www.stands4.com/services/v2/lyrics.php'\n",
    "params = {'uid' : str(user_id),\n",
    "         'tokenid' : str(token),\n",
    "         'term' : str(song),\n",
    "         'format': 'json'}\n",
    "req = requests.get(url, params)\n",
    "req.json()\n",
    "\n",
    "#### Should be sub fn using specified artist to refine results to single dict. w/ key:val pairs to document & nav."
   ]
  },
  {
   "cell_type": "code",
   "execution_count": null,
   "metadata": {},
   "outputs": [],
   "source": []
  },
  {
   "cell_type": "raw",
   "metadata": {},
   "source": [
    "CREATE RESULTS DF PULLING ALBUM NAME/URL AND START TO SCRAPE LYRICS FROM ALBUM PAGES!!!!!!!"
   ]
  },
  {
   "cell_type": "markdown",
   "metadata": {},
   "source": [
    "save info to csv for modeling"
   ]
  },
  {
   "cell_type": "code",
   "execution_count": null,
   "metadata": {},
   "outputs": [],
   "source": []
  },
  {
   "cell_type": "code",
   "execution_count": null,
   "metadata": {},
   "outputs": [],
   "source": []
  },
  {
   "cell_type": "markdown",
   "metadata": {},
   "source": [
    "---\n",
    "\n",
    "### MW API\n",
    "\n",
    "---"
   ]
  },
  {
   "cell_type": "code",
   "execution_count": 36,
   "metadata": {},
   "outputs": [
    {
     "data": {
      "text/plain": [
       "'6d207136-9763-48c2-b218-6369e35e2036'"
      ]
     },
     "execution_count": 36,
     "metadata": {},
     "output_type": "execute_result"
    }
   ],
   "source": [
    "thesarus_key = open('./data/mw_key.txt', mode = 'r').read()\n",
    "thesarus_key"
   ]
  },
  {
   "cell_type": "code",
   "execution_count": null,
   "metadata": {},
   "outputs": [],
   "source": [
    "# ADD LINK TO DICTIONARY API DOCS\n",
    "mw_url = 'https://www.dictionaryapi.com/api/v3/references/thesaurus/json/'#umpire?key=6d207136-9763-48c2-b218-6369e35e2036'\n",
    "params = {\n",
    "    'key' : thesarus_key\n",
    "         }\n",
    "# loop through list of nouns, adj, etc.\n",
    "\n",
    "example = ['umpire', 'pussy']\n",
    "\n",
    "def get_meta(words):\n",
    "    params = {\n",
    "    'key' : thesarus_key\n",
    "         }\n",
    "    for word in words:\n",
    "        mw_url = 'https://www.dictionaryapi.com/api/v3/references/thesaurus/json/'\n",
    "        mw_url += word\n",
    "        word = requests.get(mw_url, params)\n",
    "        print(word.url)\n",
    "\n"
   ]
  },
  {
   "cell_type": "code",
   "execution_count": null,
   "metadata": {},
   "outputs": [],
   "source": []
  },
  {
   "cell_type": "code",
   "execution_count": null,
   "metadata": {},
   "outputs": [],
   "source": [
    "get_meta(example)"
   ]
  },
  {
   "cell_type": "code",
   "execution_count": null,
   "metadata": {},
   "outputs": [],
   "source": [
    "req = requests.get(mw_url, params)"
   ]
  },
  {
   "cell_type": "code",
   "execution_count": null,
   "metadata": {},
   "outputs": [],
   "source": [
    "print(req.url)"
   ]
  },
  {
   "cell_type": "code",
   "execution_count": null,
   "metadata": {},
   "outputs": [],
   "source": [
    "req.json()"
   ]
  },
  {
   "cell_type": "code",
   "execution_count": null,
   "metadata": {},
   "outputs": [],
   "source": []
  }
 ],
 "metadata": {
  "kernelspec": {
   "display_name": "Python 3",
   "language": "python",
   "name": "python3"
  },
  "language_info": {
   "codemirror_mode": {
    "name": "ipython",
    "version": 3
   },
   "file_extension": ".py",
   "mimetype": "text/x-python",
   "name": "python",
   "nbconvert_exporter": "python",
   "pygments_lexer": "ipython3",
   "version": "3.7.6"
  }
 },
 "nbformat": 4,
 "nbformat_minor": 4
}
