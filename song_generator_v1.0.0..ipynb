{
 "cells": [
  {
   "cell_type": "code",
   "execution_count": 1,
   "metadata": {},
   "outputs": [
    {
     "name": "stderr",
     "output_type": "stream",
     "text": [
      "[nltk_data] Downloading package punkt to\n",
      "[nltk_data]     /Users/christophervolpacchio/nltk_data...\n",
      "[nltk_data]   Package punkt is already up-to-date!\n",
      "[nltk_data] Downloading package stopwords to\n",
      "[nltk_data]     /Users/christophervolpacchio/nltk_data...\n",
      "[nltk_data]   Package stopwords is already up-to-date!\n"
     ]
    }
   ],
   "source": [
    "# Importing Webscraping, data managment and visualization libraries.\n",
    "\n",
    "import pandas as pd, matplotlib.pyplot as plt, seaborn as sns\n",
    "\n",
    "import requests\n",
    "from bs4 import BeautifulSoup\n",
    "\n",
    "import nltk\n",
    "from nltk.stem import WordNetLemmatizer\n",
    "from nltk.tokenize import word_tokenize\n",
    "from nltk.tokenize import RegexpTokenizer\n",
    "from nltk.corpus import stopwords\n",
    "nltk.download('punkt')\n",
    "nltk.download('stopwords')\n",
    "import re\n",
    "\n",
    "from sklearn.model_selection import train_test_split, GridSearchCV\n",
    "from sklearn.pipeline import Pipeline\n",
    "from sklearn.naive_bayes import MultinomialNB\n",
    "from sklearn.metrics import confusion_matrix, plot_confusion_matrix\n",
    "from sklearn.feature_extraction.text import CountVectorizer, TfidfVectorizer\n",
    "from sklearn.linear_model import LogisticRegression\n",
    "from sklearn.ensemble import GradientBoostingClassifier,\\\n",
    "AdaBoostClassifier, VotingClassifier\n",
    "from sklearn.tree import DecisionTreeClassifier\n",
    "from sklearn.ensemble import RandomForestClassifier,\\\n",
    "ExtraTreesClassifier\n",
    "from sklearn.preprocessing import StandardScaler\n",
    "from sklearn.neighbors import KNeighborsClassifier\n",
    "#\n",
    "import xgboost as xgb"
   ]
  },
  {
   "cell_type": "code",
   "execution_count": null,
   "metadata": {},
   "outputs": [],
   "source": [
    "# Connect to Lyrics.com\n",
    "user_id = 7965 \n",
    "token = open('./lyrics_token', mode = 'r')"
   ]
  },
  {
   "cell_type": "code",
   "execution_count": 3,
   "metadata": {},
   "outputs": [
    {
     "data": {
      "text/plain": [
       "'6d207136-9763-48c2-b218-6369e35e2036'"
      ]
     },
     "execution_count": 3,
     "metadata": {},
     "output_type": "execute_result"
    }
   ],
   "source": [
    "thesarus_key = open('./mw_thesaurus_key', mode = 'r').read()\n",
    "thesarus_key"
   ]
  },
  {
   "cell_type": "code",
   "execution_count": 46,
   "metadata": {},
   "outputs": [],
   "source": [
    "mw_url = 'https://www.dictionaryapi.com/api/v3/references/thesaurus/json/umpire'#umpire?key=6d207136-9763-48c2-b218-6369e35e2036'\n",
    "# params = {'id' : 'umpire',\n",
    "#          'key' : thesarus_key}\n",
    "params = {'key' : thesarus_key}\n",
    "# loop through list of nouns, adj, etc."
   ]
  },
  {
   "cell_type": "code",
   "execution_count": 47,
   "metadata": {},
   "outputs": [],
   "source": [
    "req = requests.get(mw_url, params) #+thesarus_key)"
   ]
  },
  {
   "cell_type": "code",
   "execution_count": 48,
   "metadata": {},
   "outputs": [
    {
     "name": "stdout",
     "output_type": "stream",
     "text": [
      "https://www.dictionaryapi.com/api/v3/references/thesaurus/json/umpire?key=6d207136-9763-48c2-b218-6369e35e2036\n"
     ]
    }
   ],
   "source": [
    "print(req.url)"
   ]
  },
  {
   "cell_type": "code",
   "execution_count": 49,
   "metadata": {},
   "outputs": [
    {
     "data": {
      "text/plain": [
       "[{'meta': {'id': 'umpire',\n",
       "   'uuid': '1c8533d7-23e6-4c3b-9c48-854066e8caff',\n",
       "   'src': 'coll_thes',\n",
       "   'section': 'alpha',\n",
       "   'target': {'tuuid': '897edcad-2e88-4ab7-b81b-170ddf8eb4ec',\n",
       "    'tsrc': 'collegiate'},\n",
       "   'stems': ['umpire', 'umpires'],\n",
       "   'syns': [['adjudicator', 'arbiter', 'arbitrator', 'judge', 'referee']],\n",
       "   'ants': [],\n",
       "   'offensive': False},\n",
       "  'hwi': {'hw': 'umpire'},\n",
       "  'fl': 'noun',\n",
       "  'def': [{'sseq': [[['sense',\n",
       "       {'dt': [['text',\n",
       "          'a person who impartially decides or resolves a dispute or controversy '],\n",
       "         ['vis',\n",
       "          [{'t': 'usually acts as {it}umpire{/it} in the all-too-frequent squabbles between the two other roommates'}]]],\n",
       "        'syn_list': [[{'wd': 'adjudicator'},\n",
       "          {'wd': 'arbiter'},\n",
       "          {'wd': 'arbitrator'},\n",
       "          {'wd': 'judge'},\n",
       "          {'wd': 'referee'}]],\n",
       "        'rel_list': [[{'wd': 'jurist'},\n",
       "          {'wd': 'justice'},\n",
       "          {'wd': 'magistrate'}],\n",
       "         [{'wd': 'intermediary'},\n",
       "          {'wd': 'intermediate'},\n",
       "          {'wd': 'mediator'},\n",
       "          {'wd': 'mediatrix'},\n",
       "          {'wd': 'moderator'},\n",
       "          {'wd': 'negotiator'}],\n",
       "         [{'wd': 'conciliator'},\n",
       "          {'wd': 'go-between'},\n",
       "          {'wd': 'peacemaker'},\n",
       "          {'wd': 'reconciler'},\n",
       "          {'wd': 'troubleshooter'}],\n",
       "         [{'wd': 'decider'}]]}]]]}],\n",
       "  'shortdef': ['a person who impartially decides or resolves a dispute or controversy']},\n",
       " {'meta': {'id': 'umpire',\n",
       "   'uuid': '5a3dcf68-10bd-47f2-9752-10bb2bf23cc3',\n",
       "   'src': 'coll_thes',\n",
       "   'section': 'alpha',\n",
       "   'target': {'tuuid': '619b3478-c6be-4dd1-b104-8082f15c2e9b',\n",
       "    'tsrc': 'collegiate'},\n",
       "   'stems': ['umpire', 'umpired', 'umpires', 'umpiring'],\n",
       "   'syns': [['adjudge',\n",
       "     'adjudicate',\n",
       "     'arbitrate',\n",
       "     'decide',\n",
       "     'determine',\n",
       "     'judge',\n",
       "     'referee',\n",
       "     'rule (on)',\n",
       "     'settle']],\n",
       "   'ants': [],\n",
       "   'offensive': False},\n",
       "  'hwi': {'hw': 'umpire'},\n",
       "  'fl': 'verb',\n",
       "  'def': [{'sseq': [[['sense',\n",
       "       {'dt': [['text',\n",
       "          'to give an opinion about (something at issue or in dispute) '],\n",
       "         ['vis',\n",
       "          [{'t': 'in our family disputes regarding the use of our home entertainment system are {it}umpired{/it} by Dad'}]]],\n",
       "        'syn_list': [[{'wd': 'adjudge'},\n",
       "          {'wd': 'adjudicate'},\n",
       "          {'wd': 'arbitrate'},\n",
       "          {'wd': 'decide'},\n",
       "          {'wd': 'determine'},\n",
       "          {'wd': 'judge'},\n",
       "          {'wd': 'referee'},\n",
       "          {'wd': 'rule (on)'},\n",
       "          {'wd': 'settle'}]],\n",
       "        'rel_list': [[{'wd': 'consider'},\n",
       "          {'wd': 'deem'},\n",
       "          {'wd': 'deliberate'},\n",
       "          {'wd': 'hear'},\n",
       "          {'wd': 'ponder'},\n",
       "          {'wd': 'weigh'}],\n",
       "         [{'wd': 'size up'}],\n",
       "         [{'wd': 'mediate'}, {'wd': 'moderate'}, {'wd': 'negotiate'}],\n",
       "         [{'wd': 'prosecute'}, {'wd': 'try'}],\n",
       "         [{'wd': 'find (for or against)'}],\n",
       "         [{'wd': 'conclude'}, {'wd': 'resolve'}],\n",
       "         [{'wd': 'redetermine'}, {'wd': 'rejudge'}]],\n",
       "        'near_list': [[{'wd': 'equivocate'},\n",
       "          {'wd': 'hedge'},\n",
       "          {'wd': 'pussyfoot'},\n",
       "          {'wd': 'skirt'}]]}]]]}],\n",
       "  'shortdef': ['to give an opinion about (something at issue or in dispute)']}]"
      ]
     },
     "execution_count": 49,
     "metadata": {},
     "output_type": "execute_result"
    }
   ],
   "source": [
    "req.json()"
   ]
  }
 ],
 "metadata": {
  "kernelspec": {
   "display_name": "Python 3",
   "language": "python",
   "name": "python3"
  },
  "language_info": {
   "codemirror_mode": {
    "name": "ipython",
    "version": 3
   },
   "file_extension": ".py",
   "mimetype": "text/x-python",
   "name": "python",
   "nbconvert_exporter": "python",
   "pygments_lexer": "ipython3",
   "version": "3.7.6"
  }
 },
 "nbformat": 4,
 "nbformat_minor": 4
}
