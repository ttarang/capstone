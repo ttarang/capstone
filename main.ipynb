{
 "cells": [
  {
   "cell_type": "code",
   "execution_count": 2,
   "metadata": {},
   "outputs": [],
   "source": [
    "\"\"\"\n",
    "Tarang TO DO\n",
    "\n",
    "1. FIX GITIGNORE\n",
    "    Operates locally.\n",
    "\"\"\";"
   ]
  },
  {
   "cell_type": "code",
   "execution_count": 24,
   "metadata": {},
   "outputs": [
    {
     "name": "stderr",
     "output_type": "stream",
     "text": [
      "[nltk_data] Downloading package punkt to /Users/tarang/nltk_data...\n",
      "[nltk_data]   Package punkt is already up-to-date!\n",
      "[nltk_data] Downloading package stopwords to\n",
      "[nltk_data]     /Users/tarang/nltk_data...\n",
      "[nltk_data]   Package stopwords is already up-to-date!\n"
     ]
    }
   ],
   "source": [
    "# Importing Webscraping, data managment and visualization libraries.\n",
    "\n",
    "import pandas as pd, matplotlib.pyplot as plt, seaborn as sns\n",
    "\n",
    "# Web–scraping & cleaning libs.\n",
    "import requests\n",
    "from bs4 import BeautifulSoup\n",
    "\n",
    "# NLP Libs.\n",
    "import nltk\n",
    "from nltk.stem import WordNetLemmatizer\n",
    "from nltk.tokenize import word_tokenize\n",
    "from nltk.tokenize import RegexpTokenizer\n",
    "from nltk.corpus import stopwords\n",
    "nltk.download('punkt')\n",
    "nltk.download('stopwords')\n",
    "import re\n",
    "\n",
    "from sklearn.model_selection import train_test_split, GridSearchCV\n",
    "from sklearn.pipeline import Pipeline\n",
    "from sklearn.naive_bayes import MultinomialNB\n",
    "from sklearn.metrics import confusion_matrix, plot_confusion_matrix\n",
    "from sklearn.feature_extraction.text import CountVectorizer, TfidfVectorizer\n",
    "from sklearn.linear_model import LogisticRegression\n",
    "from sklearn.ensemble import GradientBoostingClassifier,\\\n",
    "AdaBoostClassifier, VotingClassifier\n",
    "from sklearn.tree import DecisionTreeClassifier\n",
    "from sklearn.ensemble import RandomForestClassifier,\\\n",
    "ExtraTreesClassifier\n",
    "from sklearn.preprocessing import StandardScaler\n",
    "from sklearn.neighbors import KNeighborsClassifier\n",
    "#\n",
    "#import xgboost as xgb"
   ]
  },
  {
   "cell_type": "code",
   "execution_count": 38,
   "metadata": {},
   "outputs": [
    {
     "data": {
      "text/plain": [
       "\"Well, I don't feel better when I'm fucking around\\nAnd I don't write better when I'm stuck in the ground\\nSo don't teach me a lesson 'cause I've already learned\\nYeah, the sun will be shining and my children will burn\\n\\nOh, the heart beats in its cage\\n\\nI don't want what you want, I don't feel what you feel\\nSee, I'm stuck in a city but I belong in a field\\nYeah, we got left, left, left, left, left, left, left\\nNow it's three in the morning and you're eating alone\\n\\nOh, the heart beats in its cage\\n\\nAll our friends, they're laughing at us\\nAll of those you loved, you mistrust\\nHelp me, I'm just not quite myself\\nLook around, there's no one else left\\n\\nI went to the concert and I fought through the crowd\\nGuess I got too excited when I thought you were around\\nOh, he gets left, left, left, left, left, left, left\\nAnd I'm sorry you were thinking I would steal your fire\\n\\nOh, the heart beats in its cage\\nYes, the heart beats in its cage\\n\\nAnd the heart beats in its cage\""
      ]
     },
     "execution_count": 38,
     "metadata": {},
     "output_type": "execute_result"
    }
   ],
   "source": [
    "\"\"\" This is how we will start to extract the lyrics from the song webpage.\n",
    "\"\"\"\n",
    "\n",
    "url = 'https://www.lyrics.com/lyric/31024783/The+Strokes/Heart+In+a+Cage'\n",
    "req = requests.get(url)\n",
    "\n",
    "soup = BeautifulSoup(req.text)\n",
    "lyrics = soup.find(\"pre\",{'id' : 'lyric-body-text'}).text\n",
    "lyrics"
   ]
  },
  {
   "cell_type": "code",
   "execution_count": 7,
   "metadata": {},
   "outputs": [],
   "source": [
    "# \\n is a line \\n\\n is a stanza.\n",
    "#<div class=\"clearfix\"><h3 class=\"artist-album-label\">"
   ]
  },
  {
   "cell_type": "code",
   "execution_count": 10,
   "metadata": {},
   "outputs": [
    {
     "name": "stdout",
     "output_type": "stream",
     "text": [
      "Enter artist here : the strokes\n",
      "                                        Titles\n",
      "0                              Ode to the Mets\n",
      "1    New York City Cops [Live in Iceland 2002]\n",
      "2                        You Talk Way Too Much\n",
      "3                                 Happy Ending\n",
      "4                                       Hawaii\n",
      "..                                         ...\n",
      "100                    Meet Me In the Bathroom\n",
      "101                       Not the Same Anymore\n",
      "102                    Meet Me in the Bathroom\n",
      "103                            Hard to Explain\n",
      "104                                   Juicebox\n",
      "\n",
      "[105 rows x 1 columns]\n",
      "Choose a title by index number : 10\n"
     ]
    },
    {
     "data": {
      "text/plain": [
       "{'result': [{'song': 'Ask Me Anything',\n",
       "   'song-link': 'https://www.lyrics.com/lyric/8505390/The+Strokes/Ask+Me+Anything',\n",
       "   'artist': 'The Strokes',\n",
       "   'artist-link': 'https://www.lyrics.com/artist/The+Strokes/478260',\n",
       "   'album': 'First Impressions of Earth',\n",
       "   'album-link': 'https://www.lyrics.com/album/812605/First Impressions of Earth'},\n",
       "  {'song': 'Ask Me Anything',\n",
       "   'song-link': 'https://www.lyrics.com/lyric/28316031/The+Strokes/Ask+Me+Anything',\n",
       "   'artist': 'The Strokes',\n",
       "   'artist-link': 'https://www.lyrics.com/artist/The+Strokes/478260',\n",
       "   'album': 'First Impressions of Earth [LP]',\n",
       "   'album-link': 'https://www.lyrics.com/album/815144/First Impressions of Earth [LP]'},\n",
       "  {'song': 'Ask Me Anything',\n",
       "   'song-link': 'https://www.lyrics.com/lyric/31024779/The+Strokes/Ask+Me+Anything',\n",
       "   'artist': 'The Strokes',\n",
       "   'artist-link': 'https://www.lyrics.com/artist/The+Strokes/478260',\n",
       "   'album': 'First Impressions of Earth',\n",
       "   'album-link': 'https://www.lyrics.com/album/812605/First Impressions of Earth'},\n",
       "  {'song': 'Ask Me Anything',\n",
       "   'song-link': 'https://www.lyrics.com/lyric/32664449/The+Strokes/Ask+Me+Anything',\n",
       "   'artist': 'The Strokes',\n",
       "   'artist-link': 'https://www.lyrics.com/artist/The+Strokes/478260',\n",
       "   'album': 'The Complete Collection',\n",
       "   'album-link': 'https://www.lyrics.com/album/3141973/The Complete Collection'}]}"
      ]
     },
     "execution_count": 10,
     "metadata": {},
     "output_type": "execute_result"
    }
   ],
   "source": [
    "\"\"\"\n",
    "SHOULD I USE SUB FUNCTIONS\n",
    "\"\"\";\n",
    "user_id = open('./data/lyrics_user.txt', mode = 'r').read()\n",
    "token = open('./data/lyrics_key.txt', mode = 'r').read()\n",
    "\n",
    "artist = input('Enter artist here : ')\n",
    "# if not redirected to artist page (instead results of ARTISTS, return message to include articles in name)\n",
    "url = 'https://www.lyrics.com/artist/'+str(artist.replace(' ', '+'))\n",
    "req = requests.get(url)\n",
    "soup = BeautifulSoup(req.text)\n",
    "tables = soup.find_all('table', {'class': 'tdata'})\n",
    "songs = []\n",
    "for table in tables:\n",
    "    for row in table.find('tbody').find_all('tr'):\n",
    "        songs.append(row.find('a').text)\n",
    "songs = pd.DataFrame(set(songs), columns = ['Titles'])\n",
    "print(songs)\n",
    "# how to display FULL disc on Web Pge w/0 elipsis?\n",
    "album = input('Choose a title by index number : ')\n",
    "song = str(songs.loc[int(album),'Titles'])\n",
    "#\n",
    "# Getting album url to pull tracklist and search lyrics for each.\n",
    "#\n",
    "url = 'https://www.stands4.com/services/v2/lyrics.php'\n",
    "params = {'uid' : str(user_id),\n",
    "         'tokenid' : str(token),\n",
    "         'term' : str(song),\n",
    "         'format': 'json'}\n",
    "req = requests.get(url, params)\n",
    "req.json()\n",
    "#\n",
    "# Log album name and use url from dict to nav to page and pull track list for further querying\n",
    "#"
   ]
  },
  {
   "cell_type": "code",
   "execution_count": 11,
   "metadata": {},
   "outputs": [],
   "source": [
    "json_results = req.json()"
   ]
  },
  {
   "cell_type": "markdown",
   "metadata": {},
   "source": [
    "## Code to capture album data for songs with more than 7 titles"
   ]
  },
  {
   "cell_type": "code",
   "execution_count": 12,
   "metadata": {},
   "outputs": [],
   "source": [
    "##basic loop that goes through the json output/query result.\n",
    "counter = 0\n",
    "for counter in range(len(json_results[\"result\"])):\n",
    "    ##if json_code output == to artist name input: then grab the album name\n",
    "    if json_results[\"result\"][counter]['artist'].lower() == artist.lower():\n",
    "        \n",
    "        ##code that adds all the songs within the album\n",
    "        url = json_results[\"result\"][counter]['album-link']\n",
    "        req = requests.get(url)\n",
    "        soup = BeautifulSoup(req.text)\n",
    "        tables = soup.find_all('table', {'class': 'tdata'})\n",
    "        album_songs = []\n",
    "        for table in tables:\n",
    "            for row in table.find('tbody').find_all('tr'):\n",
    "                \n",
    "                album_songs.append(row.find('a').text)\n",
    "        if len(album_songs) >= 7:\n",
    "            \n",
    "            ##CODE FOR STORING THE ALBUM AND ITS SONGS INTO A DATA FRAME THAT CONTAINS ALBUM, SONG NAME, SONG URL, \n",
    "            ##ARTIST GOES HERE\n",
    "            \n",
    "            ##This code grabs all the song urls within the album            \n",
    "            for table in tables:\n",
    "                link_list = [a['href'] for a in soup.find_all('a', href=True)]\n",
    "                lyrics_link = []\n",
    "                for link in link_list:\n",
    "                    if link.startswith('/lyric/'):\n",
    "                        lyrics_link.append(link)\n",
    "                        \n",
    "            full_link_list = []\n",
    "            for link in lyrics_link:\n",
    "                full_link_list.append('https://www.lyrics.com/'+link)\n",
    "                \n",
    "            ##Thies creates the dataframe of the \n",
    "            album_data = pd.DataFrame({'Artist':json_results[\"result\"][counter]['artist'],\n",
    "                           'Album':json_results[\"result\"][counter]['album'],\n",
    "                           'Song Link':full_link_list,\n",
    "                           'Song Name':album_songs})            \n",
    "            \n",
    "                \n",
    " \n",
    "        counter += 1"
   ]
  },
  {
   "cell_type": "code",
   "execution_count": 13,
   "metadata": {},
   "outputs": [
    {
     "data": {
      "text/html": [
       "<div>\n",
       "<style scoped>\n",
       "    .dataframe tbody tr th:only-of-type {\n",
       "        vertical-align: middle;\n",
       "    }\n",
       "\n",
       "    .dataframe tbody tr th {\n",
       "        vertical-align: top;\n",
       "    }\n",
       "\n",
       "    .dataframe thead th {\n",
       "        text-align: right;\n",
       "    }\n",
       "</style>\n",
       "<table border=\"1\" class=\"dataframe\">\n",
       "  <thead>\n",
       "    <tr style=\"text-align: right;\">\n",
       "      <th></th>\n",
       "      <th>Artist</th>\n",
       "      <th>Album</th>\n",
       "      <th>Song Link</th>\n",
       "      <th>Song Name</th>\n",
       "    </tr>\n",
       "  </thead>\n",
       "  <tbody>\n",
       "    <tr>\n",
       "      <th>0</th>\n",
       "      <td>The Strokes</td>\n",
       "      <td>The Complete Collection</td>\n",
       "      <td>https://www.lyrics.com//lyric/32664477/Is+This+It</td>\n",
       "      <td>Is This It</td>\n",
       "    </tr>\n",
       "    <tr>\n",
       "      <th>1</th>\n",
       "      <td>The Strokes</td>\n",
       "      <td>The Complete Collection</td>\n",
       "      <td>https://www.lyrics.com//lyric/32664476/The+Mod...</td>\n",
       "      <td>The Modern Age</td>\n",
       "    </tr>\n",
       "    <tr>\n",
       "      <th>2</th>\n",
       "      <td>The Strokes</td>\n",
       "      <td>The Complete Collection</td>\n",
       "      <td>https://www.lyrics.com//lyric/32664475/Soma</td>\n",
       "      <td>Soma</td>\n",
       "    </tr>\n",
       "    <tr>\n",
       "      <th>3</th>\n",
       "      <td>The Strokes</td>\n",
       "      <td>The Complete Collection</td>\n",
       "      <td>https://www.lyrics.com//lyric/32664474/Barely+...</td>\n",
       "      <td>Barely Legal</td>\n",
       "    </tr>\n",
       "    <tr>\n",
       "      <th>4</th>\n",
       "      <td>The Strokes</td>\n",
       "      <td>The Complete Collection</td>\n",
       "      <td>https://www.lyrics.com//lyric/32664473/Someday</td>\n",
       "      <td>Someday</td>\n",
       "    </tr>\n",
       "    <tr>\n",
       "      <th>5</th>\n",
       "      <td>The Strokes</td>\n",
       "      <td>The Complete Collection</td>\n",
       "      <td>https://www.lyrics.com//lyric/32664472/Alone%2...</td>\n",
       "      <td>Alone, Together</td>\n",
       "    </tr>\n",
       "    <tr>\n",
       "      <th>6</th>\n",
       "      <td>The Strokes</td>\n",
       "      <td>The Complete Collection</td>\n",
       "      <td>https://www.lyrics.com//lyric/32664471/Last+Nite</td>\n",
       "      <td>Last Nite</td>\n",
       "    </tr>\n",
       "    <tr>\n",
       "      <th>7</th>\n",
       "      <td>The Strokes</td>\n",
       "      <td>The Complete Collection</td>\n",
       "      <td>https://www.lyrics.com//lyric/32664470/Hard+to...</td>\n",
       "      <td>Hard to Explain</td>\n",
       "    </tr>\n",
       "    <tr>\n",
       "      <th>8</th>\n",
       "      <td>The Strokes</td>\n",
       "      <td>The Complete Collection</td>\n",
       "      <td>https://www.lyrics.com//lyric/32664469/When+It...</td>\n",
       "      <td>When It Started</td>\n",
       "    </tr>\n",
       "    <tr>\n",
       "      <th>9</th>\n",
       "      <td>The Strokes</td>\n",
       "      <td>The Complete Collection</td>\n",
       "      <td>https://www.lyrics.com//lyric/32664468/Trying+...</td>\n",
       "      <td>Trying Your Luck</td>\n",
       "    </tr>\n",
       "    <tr>\n",
       "      <th>10</th>\n",
       "      <td>The Strokes</td>\n",
       "      <td>The Complete Collection</td>\n",
       "      <td>https://www.lyrics.com//lyric/32664467/Take+It...</td>\n",
       "      <td>Take It or Leave It</td>\n",
       "    </tr>\n",
       "    <tr>\n",
       "      <th>11</th>\n",
       "      <td>The Strokes</td>\n",
       "      <td>The Complete Collection</td>\n",
       "      <td>https://www.lyrics.com//lyric/32664466/What+Ev...</td>\n",
       "      <td>What Ever Happened?</td>\n",
       "    </tr>\n",
       "    <tr>\n",
       "      <th>12</th>\n",
       "      <td>The Strokes</td>\n",
       "      <td>The Complete Collection</td>\n",
       "      <td>https://www.lyrics.com//lyric/32664465/Reptilia</td>\n",
       "      <td>Reptilia</td>\n",
       "    </tr>\n",
       "    <tr>\n",
       "      <th>13</th>\n",
       "      <td>The Strokes</td>\n",
       "      <td>The Complete Collection</td>\n",
       "      <td>https://www.lyrics.com//lyric/32664464/Automat...</td>\n",
       "      <td>Automatic Stop</td>\n",
       "    </tr>\n",
       "    <tr>\n",
       "      <th>14</th>\n",
       "      <td>The Strokes</td>\n",
       "      <td>The Complete Collection</td>\n",
       "      <td>https://www.lyrics.com//lyric/32664463/12%3A51</td>\n",
       "      <td>12:51</td>\n",
       "    </tr>\n",
       "    <tr>\n",
       "      <th>15</th>\n",
       "      <td>The Strokes</td>\n",
       "      <td>The Complete Collection</td>\n",
       "      <td>https://www.lyrics.com//lyric/32664462/You+Tal...</td>\n",
       "      <td>You Talk Way Too Much</td>\n",
       "    </tr>\n",
       "    <tr>\n",
       "      <th>16</th>\n",
       "      <td>The Strokes</td>\n",
       "      <td>The Complete Collection</td>\n",
       "      <td>https://www.lyrics.com//lyric/32664461/Between...</td>\n",
       "      <td>Between Love &amp; Hate</td>\n",
       "    </tr>\n",
       "    <tr>\n",
       "      <th>17</th>\n",
       "      <td>The Strokes</td>\n",
       "      <td>The Complete Collection</td>\n",
       "      <td>https://www.lyrics.com//lyric/32664460/Meet+Me...</td>\n",
       "      <td>Meet Me In the Bathroom</td>\n",
       "    </tr>\n",
       "    <tr>\n",
       "      <th>18</th>\n",
       "      <td>The Strokes</td>\n",
       "      <td>The Complete Collection</td>\n",
       "      <td>https://www.lyrics.com//lyric/32664459/Under+C...</td>\n",
       "      <td>Under Control</td>\n",
       "    </tr>\n",
       "    <tr>\n",
       "      <th>19</th>\n",
       "      <td>The Strokes</td>\n",
       "      <td>The Complete Collection</td>\n",
       "      <td>https://www.lyrics.com//lyric/32664458/The+Way...</td>\n",
       "      <td>The Way It Is</td>\n",
       "    </tr>\n",
       "    <tr>\n",
       "      <th>20</th>\n",
       "      <td>The Strokes</td>\n",
       "      <td>The Complete Collection</td>\n",
       "      <td>https://www.lyrics.com//lyric/32664457/The+End...</td>\n",
       "      <td>The End Has No End</td>\n",
       "    </tr>\n",
       "    <tr>\n",
       "      <th>21</th>\n",
       "      <td>The Strokes</td>\n",
       "      <td>The Complete Collection</td>\n",
       "      <td>https://www.lyrics.com//lyric/32664456/I+Can%2...</td>\n",
       "      <td>I Can't Win</td>\n",
       "    </tr>\n",
       "    <tr>\n",
       "      <th>22</th>\n",
       "      <td>The Strokes</td>\n",
       "      <td>The Complete Collection</td>\n",
       "      <td>https://www.lyrics.com//lyric/32664455/You+Onl...</td>\n",
       "      <td>You Only Live Once</td>\n",
       "    </tr>\n",
       "    <tr>\n",
       "      <th>23</th>\n",
       "      <td>The Strokes</td>\n",
       "      <td>The Complete Collection</td>\n",
       "      <td>https://www.lyrics.com//lyric/32664454/Juicebox</td>\n",
       "      <td>Juicebox</td>\n",
       "    </tr>\n",
       "    <tr>\n",
       "      <th>24</th>\n",
       "      <td>The Strokes</td>\n",
       "      <td>The Complete Collection</td>\n",
       "      <td>https://www.lyrics.com//lyric/32664453/Heart+I...</td>\n",
       "      <td>Heart In a Cage</td>\n",
       "    </tr>\n",
       "    <tr>\n",
       "      <th>25</th>\n",
       "      <td>The Strokes</td>\n",
       "      <td>The Complete Collection</td>\n",
       "      <td>https://www.lyrics.com//lyric/32664452/Razorblade</td>\n",
       "      <td>Razorblade</td>\n",
       "    </tr>\n",
       "    <tr>\n",
       "      <th>26</th>\n",
       "      <td>The Strokes</td>\n",
       "      <td>The Complete Collection</td>\n",
       "      <td>https://www.lyrics.com//lyric/32664451/On+the+...</td>\n",
       "      <td>On the Other Side</td>\n",
       "    </tr>\n",
       "    <tr>\n",
       "      <th>27</th>\n",
       "      <td>The Strokes</td>\n",
       "      <td>The Complete Collection</td>\n",
       "      <td>https://www.lyrics.com//lyric/32664450/Vision+...</td>\n",
       "      <td>Vision of Division</td>\n",
       "    </tr>\n",
       "    <tr>\n",
       "      <th>28</th>\n",
       "      <td>The Strokes</td>\n",
       "      <td>The Complete Collection</td>\n",
       "      <td>https://www.lyrics.com//lyric/32664449/Ask+Me+...</td>\n",
       "      <td>Ask Me Anything</td>\n",
       "    </tr>\n",
       "    <tr>\n",
       "      <th>29</th>\n",
       "      <td>The Strokes</td>\n",
       "      <td>The Complete Collection</td>\n",
       "      <td>https://www.lyrics.com//lyric/32664448/Electri...</td>\n",
       "      <td>Electricityscape</td>\n",
       "    </tr>\n",
       "    <tr>\n",
       "      <th>30</th>\n",
       "      <td>The Strokes</td>\n",
       "      <td>The Complete Collection</td>\n",
       "      <td>https://www.lyrics.com//lyric/32664446/Fear+of...</td>\n",
       "      <td>Fear of Sleep</td>\n",
       "    </tr>\n",
       "    <tr>\n",
       "      <th>31</th>\n",
       "      <td>The Strokes</td>\n",
       "      <td>The Complete Collection</td>\n",
       "      <td>https://www.lyrics.com//lyric/32664444/Ize+of+...</td>\n",
       "      <td>Ize of the World</td>\n",
       "    </tr>\n",
       "    <tr>\n",
       "      <th>32</th>\n",
       "      <td>The Strokes</td>\n",
       "      <td>The Complete Collection</td>\n",
       "      <td>https://www.lyrics.com//lyric/32664443/Evening...</td>\n",
       "      <td>Evening Sun</td>\n",
       "    </tr>\n",
       "    <tr>\n",
       "      <th>33</th>\n",
       "      <td>The Strokes</td>\n",
       "      <td>The Complete Collection</td>\n",
       "      <td>https://www.lyrics.com//lyric/32664442/Red+Light</td>\n",
       "      <td>Red Light</td>\n",
       "    </tr>\n",
       "    <tr>\n",
       "      <th>34</th>\n",
       "      <td>The Strokes</td>\n",
       "      <td>The Complete Collection</td>\n",
       "      <td>https://www.lyrics.com//lyric/32664441/Machu+P...</td>\n",
       "      <td>Machu Picchu</td>\n",
       "    </tr>\n",
       "    <tr>\n",
       "      <th>35</th>\n",
       "      <td>The Strokes</td>\n",
       "      <td>The Complete Collection</td>\n",
       "      <td>https://www.lyrics.com//lyric/32664440/Under+C...</td>\n",
       "      <td>Under Cover of Darkness</td>\n",
       "    </tr>\n",
       "    <tr>\n",
       "      <th>36</th>\n",
       "      <td>The Strokes</td>\n",
       "      <td>The Complete Collection</td>\n",
       "      <td>https://www.lyrics.com//lyric/32664439/Two+Kin...</td>\n",
       "      <td>Two Kinds of Happiness</td>\n",
       "    </tr>\n",
       "    <tr>\n",
       "      <th>37</th>\n",
       "      <td>The Strokes</td>\n",
       "      <td>The Complete Collection</td>\n",
       "      <td>https://www.lyrics.com//lyric/32664438/You%27r...</td>\n",
       "      <td>You're So Right</td>\n",
       "    </tr>\n",
       "    <tr>\n",
       "      <th>38</th>\n",
       "      <td>The Strokes</td>\n",
       "      <td>The Complete Collection</td>\n",
       "      <td>https://www.lyrics.com//lyric/32664435/Call+Me...</td>\n",
       "      <td>Call Me Back</td>\n",
       "    </tr>\n",
       "    <tr>\n",
       "      <th>39</th>\n",
       "      <td>The Strokes</td>\n",
       "      <td>The Complete Collection</td>\n",
       "      <td>https://www.lyrics.com//lyric/32664434/Gratisf...</td>\n",
       "      <td>Gratisfaction</td>\n",
       "    </tr>\n",
       "    <tr>\n",
       "      <th>40</th>\n",
       "      <td>The Strokes</td>\n",
       "      <td>The Complete Collection</td>\n",
       "      <td>https://www.lyrics.com//lyric/32664433/Metabolism</td>\n",
       "      <td>Metabolism</td>\n",
       "    </tr>\n",
       "    <tr>\n",
       "      <th>41</th>\n",
       "      <td>The Strokes</td>\n",
       "      <td>The Complete Collection</td>\n",
       "      <td>https://www.lyrics.com//lyric/32664432/Life+Is...</td>\n",
       "      <td>Life Is Simple In the Moonlight</td>\n",
       "    </tr>\n",
       "  </tbody>\n",
       "</table>\n",
       "</div>"
      ],
      "text/plain": [
       "         Artist                    Album  \\\n",
       "0   The Strokes  The Complete Collection   \n",
       "1   The Strokes  The Complete Collection   \n",
       "2   The Strokes  The Complete Collection   \n",
       "3   The Strokes  The Complete Collection   \n",
       "4   The Strokes  The Complete Collection   \n",
       "5   The Strokes  The Complete Collection   \n",
       "6   The Strokes  The Complete Collection   \n",
       "7   The Strokes  The Complete Collection   \n",
       "8   The Strokes  The Complete Collection   \n",
       "9   The Strokes  The Complete Collection   \n",
       "10  The Strokes  The Complete Collection   \n",
       "11  The Strokes  The Complete Collection   \n",
       "12  The Strokes  The Complete Collection   \n",
       "13  The Strokes  The Complete Collection   \n",
       "14  The Strokes  The Complete Collection   \n",
       "15  The Strokes  The Complete Collection   \n",
       "16  The Strokes  The Complete Collection   \n",
       "17  The Strokes  The Complete Collection   \n",
       "18  The Strokes  The Complete Collection   \n",
       "19  The Strokes  The Complete Collection   \n",
       "20  The Strokes  The Complete Collection   \n",
       "21  The Strokes  The Complete Collection   \n",
       "22  The Strokes  The Complete Collection   \n",
       "23  The Strokes  The Complete Collection   \n",
       "24  The Strokes  The Complete Collection   \n",
       "25  The Strokes  The Complete Collection   \n",
       "26  The Strokes  The Complete Collection   \n",
       "27  The Strokes  The Complete Collection   \n",
       "28  The Strokes  The Complete Collection   \n",
       "29  The Strokes  The Complete Collection   \n",
       "30  The Strokes  The Complete Collection   \n",
       "31  The Strokes  The Complete Collection   \n",
       "32  The Strokes  The Complete Collection   \n",
       "33  The Strokes  The Complete Collection   \n",
       "34  The Strokes  The Complete Collection   \n",
       "35  The Strokes  The Complete Collection   \n",
       "36  The Strokes  The Complete Collection   \n",
       "37  The Strokes  The Complete Collection   \n",
       "38  The Strokes  The Complete Collection   \n",
       "39  The Strokes  The Complete Collection   \n",
       "40  The Strokes  The Complete Collection   \n",
       "41  The Strokes  The Complete Collection   \n",
       "\n",
       "                                            Song Link  \\\n",
       "0   https://www.lyrics.com//lyric/32664477/Is+This+It   \n",
       "1   https://www.lyrics.com//lyric/32664476/The+Mod...   \n",
       "2         https://www.lyrics.com//lyric/32664475/Soma   \n",
       "3   https://www.lyrics.com//lyric/32664474/Barely+...   \n",
       "4      https://www.lyrics.com//lyric/32664473/Someday   \n",
       "5   https://www.lyrics.com//lyric/32664472/Alone%2...   \n",
       "6    https://www.lyrics.com//lyric/32664471/Last+Nite   \n",
       "7   https://www.lyrics.com//lyric/32664470/Hard+to...   \n",
       "8   https://www.lyrics.com//lyric/32664469/When+It...   \n",
       "9   https://www.lyrics.com//lyric/32664468/Trying+...   \n",
       "10  https://www.lyrics.com//lyric/32664467/Take+It...   \n",
       "11  https://www.lyrics.com//lyric/32664466/What+Ev...   \n",
       "12    https://www.lyrics.com//lyric/32664465/Reptilia   \n",
       "13  https://www.lyrics.com//lyric/32664464/Automat...   \n",
       "14     https://www.lyrics.com//lyric/32664463/12%3A51   \n",
       "15  https://www.lyrics.com//lyric/32664462/You+Tal...   \n",
       "16  https://www.lyrics.com//lyric/32664461/Between...   \n",
       "17  https://www.lyrics.com//lyric/32664460/Meet+Me...   \n",
       "18  https://www.lyrics.com//lyric/32664459/Under+C...   \n",
       "19  https://www.lyrics.com//lyric/32664458/The+Way...   \n",
       "20  https://www.lyrics.com//lyric/32664457/The+End...   \n",
       "21  https://www.lyrics.com//lyric/32664456/I+Can%2...   \n",
       "22  https://www.lyrics.com//lyric/32664455/You+Onl...   \n",
       "23    https://www.lyrics.com//lyric/32664454/Juicebox   \n",
       "24  https://www.lyrics.com//lyric/32664453/Heart+I...   \n",
       "25  https://www.lyrics.com//lyric/32664452/Razorblade   \n",
       "26  https://www.lyrics.com//lyric/32664451/On+the+...   \n",
       "27  https://www.lyrics.com//lyric/32664450/Vision+...   \n",
       "28  https://www.lyrics.com//lyric/32664449/Ask+Me+...   \n",
       "29  https://www.lyrics.com//lyric/32664448/Electri...   \n",
       "30  https://www.lyrics.com//lyric/32664446/Fear+of...   \n",
       "31  https://www.lyrics.com//lyric/32664444/Ize+of+...   \n",
       "32  https://www.lyrics.com//lyric/32664443/Evening...   \n",
       "33   https://www.lyrics.com//lyric/32664442/Red+Light   \n",
       "34  https://www.lyrics.com//lyric/32664441/Machu+P...   \n",
       "35  https://www.lyrics.com//lyric/32664440/Under+C...   \n",
       "36  https://www.lyrics.com//lyric/32664439/Two+Kin...   \n",
       "37  https://www.lyrics.com//lyric/32664438/You%27r...   \n",
       "38  https://www.lyrics.com//lyric/32664435/Call+Me...   \n",
       "39  https://www.lyrics.com//lyric/32664434/Gratisf...   \n",
       "40  https://www.lyrics.com//lyric/32664433/Metabolism   \n",
       "41  https://www.lyrics.com//lyric/32664432/Life+Is...   \n",
       "\n",
       "                          Song Name  \n",
       "0                        Is This It  \n",
       "1                    The Modern Age  \n",
       "2                              Soma  \n",
       "3                      Barely Legal  \n",
       "4                           Someday  \n",
       "5                   Alone, Together  \n",
       "6                         Last Nite  \n",
       "7                   Hard to Explain  \n",
       "8                   When It Started  \n",
       "9                  Trying Your Luck  \n",
       "10              Take It or Leave It  \n",
       "11              What Ever Happened?  \n",
       "12                         Reptilia  \n",
       "13                   Automatic Stop  \n",
       "14                            12:51  \n",
       "15            You Talk Way Too Much  \n",
       "16              Between Love & Hate  \n",
       "17          Meet Me In the Bathroom  \n",
       "18                    Under Control  \n",
       "19                    The Way It Is  \n",
       "20               The End Has No End  \n",
       "21                      I Can't Win  \n",
       "22               You Only Live Once  \n",
       "23                         Juicebox  \n",
       "24                  Heart In a Cage  \n",
       "25                       Razorblade  \n",
       "26                On the Other Side  \n",
       "27               Vision of Division  \n",
       "28                  Ask Me Anything  \n",
       "29                 Electricityscape  \n",
       "30                    Fear of Sleep  \n",
       "31                 Ize of the World  \n",
       "32                      Evening Sun  \n",
       "33                        Red Light  \n",
       "34                     Machu Picchu  \n",
       "35          Under Cover of Darkness  \n",
       "36           Two Kinds of Happiness  \n",
       "37                  You're So Right  \n",
       "38                     Call Me Back  \n",
       "39                    Gratisfaction  \n",
       "40                       Metabolism  \n",
       "41  Life Is Simple In the Moonlight  "
      ]
     },
     "execution_count": 13,
     "metadata": {},
     "output_type": "execute_result"
    }
   ],
   "source": [
    "album_data"
   ]
  },
  {
   "cell_type": "code",
   "execution_count": 43,
   "metadata": {},
   "outputs": [
    {
     "data": {
      "text/plain": [
       "'the strokes'"
      ]
     },
     "execution_count": 43,
     "metadata": {},
     "output_type": "execute_result"
    }
   ],
   "source": [
    "artist"
   ]
  },
  {
   "cell_type": "code",
   "execution_count": 47,
   "metadata": {},
   "outputs": [
    {
     "name": "stdout",
     "output_type": "stream",
     "text": [
      "{'song': 'Barely Legal', 'song-link': 'https://www.lyrics.com/lyric/35821913/The+Strokes/Barely+Legal', 'artist': 'The Strokes', 'artist-link': 'https://www.lyrics.com/artist/The+Strokes/478260', 'album': 'Is This It [180 Gram Vinyl]', 'album-link': 'https://www.lyrics.com/album/2367673/Is This It [180 Gram Vinyl]'}\n"
     ]
    }
   ],
   "source": [
    "\"\"\"\n",
    "INITIAL ARTIST PAGE QUERY\n",
    "\"\"\"\n",
    "\n",
    "\n",
    "res = req.json()\n",
    "df = res['result']\n",
    "df\n",
    "new_df = {}\n",
    "for i in df:\n",
    "    for key, value in i.items():\n",
    "        if value.lower() == artist.lower():\n",
    "            new_df.update(i)\n",
    "            break\n",
    "print(new_df)\n",
    "\n",
    "\"\"\"\n",
    "How to deal w/ duplicative results on an EP?\n",
    "    Attribution for albums 'studio', etc.?\n",
    "\"\"\";"
   ]
  },
  {
   "cell_type": "code",
   "execution_count": null,
   "metadata": {},
   "outputs": [],
   "source": [
    "\"\"\"\n",
    "Return tracklist from album page\n",
    "go to track page & extract lyrics for each\n",
    "dev DF & attribution\n",
    "model\n",
    "\"\"\""
   ]
  },
  {
   "cell_type": "code",
   "execution_count": null,
   "metadata": {},
   "outputs": [],
   "source": []
  },
  {
   "cell_type": "code",
   "execution_count": null,
   "metadata": {},
   "outputs": [],
   "source": []
  },
  {
   "cell_type": "code",
   "execution_count": 46,
   "metadata": {},
   "outputs": [
    {
     "name": "stdout",
     "output_type": "stream",
     "text": [
      "Choose a title by index number : 6\n"
     ]
    },
    {
     "data": {
      "text/plain": [
       "'New York City Cops'"
      ]
     },
     "execution_count": 46,
     "metadata": {},
     "output_type": "execute_result"
    }
   ],
   "source": [
    "album = input('Choose a title by index number : ')\n",
    "str(songs.loc[int(album),'Titles'])"
   ]
  },
  {
   "cell_type": "code",
   "execution_count": 41,
   "metadata": {},
   "outputs": [
    {
     "ename": "TypeError",
     "evalue": "'_AtIndexer' object is not callable",
     "output_type": "error",
     "traceback": [
      "\u001b[0;31m---------------------------------------------------------------------------\u001b[0m",
      "\u001b[0;31mTypeError\u001b[0m                                 Traceback (most recent call last)",
      "\u001b[0;32m<ipython-input-41-e4fb91cf3983>\u001b[0m in \u001b[0;36m<module>\u001b[0;34m\u001b[0m\n\u001b[0;32m----> 1\u001b[0;31m \u001b[0msongs\u001b[0m\u001b[0;34m.\u001b[0m\u001b[0mat\u001b[0m\u001b[0;34m(\u001b[0m\u001b[0;36m5\u001b[0m\u001b[0;34m,\u001b[0m \u001b[0;34m'Titles'\u001b[0m\u001b[0;34m)\u001b[0m\u001b[0;34m\u001b[0m\u001b[0;34m\u001b[0m\u001b[0m\n\u001b[0m",
      "\u001b[0;31mTypeError\u001b[0m: '_AtIndexer' object is not callable"
     ]
    }
   ],
   "source": [
    "# only works for scalars\n",
    "#songs.at(5, 'Titles')"
   ]
  },
  {
   "cell_type": "code",
   "execution_count": 26,
   "metadata": {},
   "outputs": [
    {
     "name": "stdout",
     "output_type": "stream",
     "text": [
      "Empty DataFrame\n",
      "Columns: [5fGYJwlI810Y5kTs]\n",
      "Index: []\n"
     ]
    }
   ],
   "source": [
    "token = pd.read_csv('./data/lyrics_key.txt', )\n",
    "print(token)"
   ]
  },
  {
   "cell_type": "code",
   "execution_count": 27,
   "metadata": {},
   "outputs": [
    {
     "data": {
      "text/plain": [
       "{'error': 'Invalid Token'}"
      ]
     },
     "execution_count": 27,
     "metadata": {},
     "output_type": "execute_result"
    }
   ],
   "source": [
    "\"\"\" Use this to start to document attributes of music related to song req.\n",
    "We can store information about the album, artist and song name while navigating to the album page.\n",
    "From album page we can then loop through song tags and request to their respective pages. Lyric Query is above.\n",
    "\"\"\"\n",
    "\n",
    "# FN passing through index # of desired song. will work off assumption that fav song will be on album w/ sim tracks\n",
    "\n",
    "user_id = pd.read_csv('./data/lyrics_user.txt')\n",
    "token = pd.read_csv('./data/lyrics_key.txt')\n",
    "song = 'Selfless'\n",
    "\n",
    "url = 'https://www.stands4.com/services/v2/lyrics.php'\n",
    "params = {'uid' : str(user_id),\n",
    "         'tokenid' : str(token),\n",
    "         'term' : str(song),\n",
    "         'format': 'json'}\n",
    "req = requests.get(url, params)\n",
    "req.json()\n",
    "\n",
    "#### Should be sub fn using specified artist to refine results to single dict. w/ key:val pairs to document & nav."
   ]
  },
  {
   "cell_type": "code",
   "execution_count": null,
   "metadata": {},
   "outputs": [],
   "source": []
  },
  {
   "cell_type": "raw",
   "metadata": {},
   "source": [
    "CREATE RESULTS DF PULLING ALBUM NAME/URL AND START TO SCRAPE LYRICS FROM ALBUM PAGES!!!!!!!"
   ]
  },
  {
   "cell_type": "markdown",
   "metadata": {},
   "source": [
    "save info to csv for modeling"
   ]
  },
  {
   "cell_type": "code",
   "execution_count": null,
   "metadata": {},
   "outputs": [],
   "source": []
  },
  {
   "cell_type": "code",
   "execution_count": null,
   "metadata": {},
   "outputs": [],
   "source": []
  },
  {
   "cell_type": "markdown",
   "metadata": {},
   "source": [
    "---\n",
    "\n",
    "### MW API\n",
    "\n",
    "---"
   ]
  },
  {
   "cell_type": "code",
   "execution_count": 15,
   "metadata": {},
   "outputs": [
    {
     "data": {
      "text/plain": [
       "'6d207136-9763-48c2-b218-6369e35e2036'"
      ]
     },
     "execution_count": 15,
     "metadata": {},
     "output_type": "execute_result"
    }
   ],
   "source": [
    "thesarus_key = open('./data/mw_key.txt', mode = 'r').read()\n",
    "thesarus_key"
   ]
  },
  {
   "cell_type": "code",
   "execution_count": 16,
   "metadata": {},
   "outputs": [],
   "source": [
    "# ADD LINK TO DICTIONARY API DOCS\n",
    "mw_url = 'https://www.dictionaryapi.com/api/v3/references/thesaurus/json/'#umpire?key=6d207136-9763-48c2-b218-6369e35e2036'\n",
    "params = {\n",
    "    'key' : thesarus_key\n",
    "         }\n",
    "# loop through list of nouns, adj, etc.\n",
    "\n",
    "example = ['umpire', 'pussy']\n",
    "\n",
    "def get_meta(words):\n",
    "    params = {\n",
    "    'key' : thesarus_key\n",
    "         }\n",
    "    for word in words:\n",
    "        mw_url = 'https://www.dictionaryapi.com/api/v3/references/thesaurus/json/'\n",
    "        mw_url += word\n",
    "        word = requests.get(mw_url, params)\n",
    "        print(word.url)\n",
    "\n"
   ]
  },
  {
   "cell_type": "code",
   "execution_count": null,
   "metadata": {},
   "outputs": [],
   "source": []
  },
  {
   "cell_type": "code",
   "execution_count": 18,
   "metadata": {},
   "outputs": [
    {
     "name": "stdout",
     "output_type": "stream",
     "text": [
      "https://www.dictionaryapi.com/api/v3/references/thesaurus/json/umpire?key=6d207136-9763-48c2-b218-6369e35e2036\n",
      "https://www.dictionaryapi.com/api/v3/references/thesaurus/json/pussy?key=6d207136-9763-48c2-b218-6369e35e2036\n"
     ]
    }
   ],
   "source": [
    "get_meta(example)"
   ]
  },
  {
   "cell_type": "code",
   "execution_count": 19,
   "metadata": {},
   "outputs": [],
   "source": [
    "req = requests.get(mw_url, params)"
   ]
  },
  {
   "cell_type": "code",
   "execution_count": 20,
   "metadata": {},
   "outputs": [
    {
     "name": "stdout",
     "output_type": "stream",
     "text": [
      "https://www.dictionaryapi.com/api/v3/references/thesaurus/json/?key=6d207136-9763-48c2-b218-6369e35e2036\n"
     ]
    }
   ],
   "source": [
    "print(req.url)"
   ]
  },
  {
   "cell_type": "code",
   "execution_count": 21,
   "metadata": {},
   "outputs": [
    {
     "ename": "JSONDecodeError",
     "evalue": "Expecting value: line 1 column 1 (char 0)",
     "output_type": "error",
     "traceback": [
      "\u001b[0;31m---------------------------------------------------------------------------\u001b[0m",
      "\u001b[0;31mJSONDecodeError\u001b[0m                           Traceback (most recent call last)",
      "\u001b[0;32m<ipython-input-21-ea8849b3977c>\u001b[0m in \u001b[0;36m<module>\u001b[0;34m\u001b[0m\n\u001b[0;32m----> 1\u001b[0;31m \u001b[0mreq\u001b[0m\u001b[0;34m.\u001b[0m\u001b[0mjson\u001b[0m\u001b[0;34m(\u001b[0m\u001b[0;34m)\u001b[0m\u001b[0;34m\u001b[0m\u001b[0;34m\u001b[0m\u001b[0m\n\u001b[0m",
      "\u001b[0;32m~/opt/miniconda3/envs/capstone_env/lib/python3.7/site-packages/requests/models.py\u001b[0m in \u001b[0;36mjson\u001b[0;34m(self, **kwargs)\u001b[0m\n\u001b[1;32m    896\u001b[0m                     \u001b[0;31m# used.\u001b[0m\u001b[0;34m\u001b[0m\u001b[0;34m\u001b[0m\u001b[0;34m\u001b[0m\u001b[0m\n\u001b[1;32m    897\u001b[0m                     \u001b[0;32mpass\u001b[0m\u001b[0;34m\u001b[0m\u001b[0;34m\u001b[0m\u001b[0m\n\u001b[0;32m--> 898\u001b[0;31m         \u001b[0;32mreturn\u001b[0m \u001b[0mcomplexjson\u001b[0m\u001b[0;34m.\u001b[0m\u001b[0mloads\u001b[0m\u001b[0;34m(\u001b[0m\u001b[0mself\u001b[0m\u001b[0;34m.\u001b[0m\u001b[0mtext\u001b[0m\u001b[0;34m,\u001b[0m \u001b[0;34m**\u001b[0m\u001b[0mkwargs\u001b[0m\u001b[0;34m)\u001b[0m\u001b[0;34m\u001b[0m\u001b[0;34m\u001b[0m\u001b[0m\n\u001b[0m\u001b[1;32m    899\u001b[0m \u001b[0;34m\u001b[0m\u001b[0m\n\u001b[1;32m    900\u001b[0m     \u001b[0;34m@\u001b[0m\u001b[0mproperty\u001b[0m\u001b[0;34m\u001b[0m\u001b[0;34m\u001b[0m\u001b[0m\n",
      "\u001b[0;32m~/opt/miniconda3/envs/capstone_env/lib/python3.7/json/__init__.py\u001b[0m in \u001b[0;36mloads\u001b[0;34m(s, encoding, cls, object_hook, parse_float, parse_int, parse_constant, object_pairs_hook, **kw)\u001b[0m\n\u001b[1;32m    346\u001b[0m             \u001b[0mparse_int\u001b[0m \u001b[0;32mis\u001b[0m \u001b[0;32mNone\u001b[0m \u001b[0;32mand\u001b[0m \u001b[0mparse_float\u001b[0m \u001b[0;32mis\u001b[0m \u001b[0;32mNone\u001b[0m \u001b[0;32mand\u001b[0m\u001b[0;34m\u001b[0m\u001b[0;34m\u001b[0m\u001b[0m\n\u001b[1;32m    347\u001b[0m             parse_constant is None and object_pairs_hook is None and not kw):\n\u001b[0;32m--> 348\u001b[0;31m         \u001b[0;32mreturn\u001b[0m \u001b[0m_default_decoder\u001b[0m\u001b[0;34m.\u001b[0m\u001b[0mdecode\u001b[0m\u001b[0;34m(\u001b[0m\u001b[0ms\u001b[0m\u001b[0;34m)\u001b[0m\u001b[0;34m\u001b[0m\u001b[0;34m\u001b[0m\u001b[0m\n\u001b[0m\u001b[1;32m    349\u001b[0m     \u001b[0;32mif\u001b[0m \u001b[0mcls\u001b[0m \u001b[0;32mis\u001b[0m \u001b[0;32mNone\u001b[0m\u001b[0;34m:\u001b[0m\u001b[0;34m\u001b[0m\u001b[0;34m\u001b[0m\u001b[0m\n\u001b[1;32m    350\u001b[0m         \u001b[0mcls\u001b[0m \u001b[0;34m=\u001b[0m \u001b[0mJSONDecoder\u001b[0m\u001b[0;34m\u001b[0m\u001b[0;34m\u001b[0m\u001b[0m\n",
      "\u001b[0;32m~/opt/miniconda3/envs/capstone_env/lib/python3.7/json/decoder.py\u001b[0m in \u001b[0;36mdecode\u001b[0;34m(self, s, _w)\u001b[0m\n\u001b[1;32m    335\u001b[0m \u001b[0;34m\u001b[0m\u001b[0m\n\u001b[1;32m    336\u001b[0m         \"\"\"\n\u001b[0;32m--> 337\u001b[0;31m         \u001b[0mobj\u001b[0m\u001b[0;34m,\u001b[0m \u001b[0mend\u001b[0m \u001b[0;34m=\u001b[0m \u001b[0mself\u001b[0m\u001b[0;34m.\u001b[0m\u001b[0mraw_decode\u001b[0m\u001b[0;34m(\u001b[0m\u001b[0ms\u001b[0m\u001b[0;34m,\u001b[0m \u001b[0midx\u001b[0m\u001b[0;34m=\u001b[0m\u001b[0m_w\u001b[0m\u001b[0;34m(\u001b[0m\u001b[0ms\u001b[0m\u001b[0;34m,\u001b[0m \u001b[0;36m0\u001b[0m\u001b[0;34m)\u001b[0m\u001b[0;34m.\u001b[0m\u001b[0mend\u001b[0m\u001b[0;34m(\u001b[0m\u001b[0;34m)\u001b[0m\u001b[0;34m)\u001b[0m\u001b[0;34m\u001b[0m\u001b[0;34m\u001b[0m\u001b[0m\n\u001b[0m\u001b[1;32m    338\u001b[0m         \u001b[0mend\u001b[0m \u001b[0;34m=\u001b[0m \u001b[0m_w\u001b[0m\u001b[0;34m(\u001b[0m\u001b[0ms\u001b[0m\u001b[0;34m,\u001b[0m \u001b[0mend\u001b[0m\u001b[0;34m)\u001b[0m\u001b[0;34m.\u001b[0m\u001b[0mend\u001b[0m\u001b[0;34m(\u001b[0m\u001b[0;34m)\u001b[0m\u001b[0;34m\u001b[0m\u001b[0;34m\u001b[0m\u001b[0m\n\u001b[1;32m    339\u001b[0m         \u001b[0;32mif\u001b[0m \u001b[0mend\u001b[0m \u001b[0;34m!=\u001b[0m \u001b[0mlen\u001b[0m\u001b[0;34m(\u001b[0m\u001b[0ms\u001b[0m\u001b[0;34m)\u001b[0m\u001b[0;34m:\u001b[0m\u001b[0;34m\u001b[0m\u001b[0;34m\u001b[0m\u001b[0m\n",
      "\u001b[0;32m~/opt/miniconda3/envs/capstone_env/lib/python3.7/json/decoder.py\u001b[0m in \u001b[0;36mraw_decode\u001b[0;34m(self, s, idx)\u001b[0m\n\u001b[1;32m    353\u001b[0m             \u001b[0mobj\u001b[0m\u001b[0;34m,\u001b[0m \u001b[0mend\u001b[0m \u001b[0;34m=\u001b[0m \u001b[0mself\u001b[0m\u001b[0;34m.\u001b[0m\u001b[0mscan_once\u001b[0m\u001b[0;34m(\u001b[0m\u001b[0ms\u001b[0m\u001b[0;34m,\u001b[0m \u001b[0midx\u001b[0m\u001b[0;34m)\u001b[0m\u001b[0;34m\u001b[0m\u001b[0;34m\u001b[0m\u001b[0m\n\u001b[1;32m    354\u001b[0m         \u001b[0;32mexcept\u001b[0m \u001b[0mStopIteration\u001b[0m \u001b[0;32mas\u001b[0m \u001b[0merr\u001b[0m\u001b[0;34m:\u001b[0m\u001b[0;34m\u001b[0m\u001b[0;34m\u001b[0m\u001b[0m\n\u001b[0;32m--> 355\u001b[0;31m             \u001b[0;32mraise\u001b[0m \u001b[0mJSONDecodeError\u001b[0m\u001b[0;34m(\u001b[0m\u001b[0;34m\"Expecting value\"\u001b[0m\u001b[0;34m,\u001b[0m \u001b[0ms\u001b[0m\u001b[0;34m,\u001b[0m \u001b[0merr\u001b[0m\u001b[0;34m.\u001b[0m\u001b[0mvalue\u001b[0m\u001b[0;34m)\u001b[0m \u001b[0;32mfrom\u001b[0m \u001b[0;32mNone\u001b[0m\u001b[0;34m\u001b[0m\u001b[0;34m\u001b[0m\u001b[0m\n\u001b[0m\u001b[1;32m    356\u001b[0m         \u001b[0;32mreturn\u001b[0m \u001b[0mobj\u001b[0m\u001b[0;34m,\u001b[0m \u001b[0mend\u001b[0m\u001b[0;34m\u001b[0m\u001b[0;34m\u001b[0m\u001b[0m\n",
      "\u001b[0;31mJSONDecodeError\u001b[0m: Expecting value: line 1 column 1 (char 0)"
     ]
    }
   ],
   "source": [
    "req.json()"
   ]
  },
  {
   "cell_type": "code",
   "execution_count": null,
   "metadata": {},
   "outputs": [],
   "source": []
  }
 ],
 "metadata": {
  "kernelspec": {
   "display_name": "Python 3",
   "language": "python",
   "name": "python3"
  },
  "language_info": {
   "codemirror_mode": {
    "name": "ipython",
    "version": 3
   },
   "file_extension": ".py",
   "mimetype": "text/x-python",
   "name": "python",
   "nbconvert_exporter": "python",
   "pygments_lexer": "ipython3",
   "version": "3.7.6"
  }
 },
 "nbformat": 4,
 "nbformat_minor": 4
}
